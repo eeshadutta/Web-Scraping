{
 "cells": [
  {
   "cell_type": "code",
   "execution_count": 49,
   "metadata": {},
   "outputs": [],
   "source": [
    "from selenium import webdriver \n",
    "import pandas as pd \n",
    "from selenium.webdriver.common.by import By \n",
    "from selenium.webdriver.support.ui import WebDriverWait \n",
    "from selenium.webdriver.support import expected_conditions as EC\n",
    "import time, re\n",
    "\n",
    "webdriverpath = \"/home/eesha/Softwares/chromedriver_linux64/chromedriver\"\n",
    "url = \"https://timesofindia.indiatimes.com/india/sena-never-stopped-talkswill-adhere-to-coalition-dharma-sanjay-raut/articleshow/71864810.cms\""
   ]
  },
  {
   "cell_type": "code",
   "execution_count": 50,
   "metadata": {},
   "outputs": [],
   "source": [
    "driver = webdriver.Chrome(webdriverpath) \n",
    "driver.get(url)\n",
    "# driver.execute_script(\"window.scrollTo(0,document.body.scrollHeight);\")"
   ]
  },
  {
   "cell_type": "code",
   "execution_count": 55,
   "metadata": {},
   "outputs": [],
   "source": [
    "xpath = '//*[@id=\"app\"]/div/div[3]/div[2]/div[2]/div[5]/div[5]/div/div[4]/span[1]'\n",
    "button = driver.find_elements_by_xpath(xpath)[0]\n",
    "button.click()"
   ]
  },
  {
   "cell_type": "code",
   "execution_count": 56,
   "metadata": {},
   "outputs": [],
   "source": [
    "CLICK_PAUSE_TIME = 2\n",
    "\n",
    "while True:\n",
    "    try:\n",
    "        more_comments_button = driver.find_elements_by_xpath('//*[@id=\"comment-sidebar-71864810\"]/div/div[3]/div[1]/div[2]/div[1]/div/div/div[2]')[0]\n",
    "        more_comments_button.click()\n",
    "        time.sleep(CLICK_PAUSE_TIME)\n",
    "    except:\n",
    "        break"
   ]
  },
  {
   "cell_type": "code",
   "execution_count": 57,
   "metadata": {},
   "outputs": [],
   "source": [
    "comment_body = []\n",
    "like_count = []\n",
    "dislike_count = []\n",
    "\n",
    "comments = driver.find_elements_by_xpath('//div[@class=\"_2uauV\"]')\n",
    "likes = driver.find_elements_by_xpath('//span[@class=\"_23uA0\"]')\n",
    "dislikes = driver.find_elements_by_xpath('//span[@class=\"_20ocg\"]')\n",
    "\n",
    "for comment, like, dislike in zip(comments, likes, dislikes):\n",
    "    if comment.text != '':\n",
    "        comment_body.append(comment.text)\n",
    "        like_count.append(like.text)\n",
    "        dislike_count.append(dislike.text)"
   ]
  },
  {
   "cell_type": "code",
   "execution_count": 58,
   "metadata": {},
   "outputs": [
    {
     "name": "stdout",
     "output_type": "stream",
     "text": [
      "610\n"
     ]
    }
   ],
   "source": [
    "print(len(comment_body))"
   ]
  },
  {
   "cell_type": "code",
   "execution_count": 59,
   "metadata": {},
   "outputs": [],
   "source": [
    "import csv\n",
    "with open('toi_comments_test.csv', 'w', newline='') as file:\n",
    "    writer = csv.writer(file)\n",
    "    writer.writerow([\"Comment\", \"Likes\", \"Dislikes\"])\n",
    "    for comment, likes_count, dislikes_count in zip(comment_body, like_count, dislike_count):\n",
    "        if 'K' in likes_count:\n",
    "            likes_count = likes_count.lower().split('k')[0]\n",
    "            likes_count = likes_count + '000'\n",
    "        writer.writerow([comment, likes_count, dislikes_count])"
   ]
  },
  {
   "cell_type": "code",
   "execution_count": 60,
   "metadata": {},
   "outputs": [],
   "source": [
    "driver.close()"
   ]
  },
  {
   "cell_type": "code",
   "execution_count": null,
   "metadata": {},
   "outputs": [],
   "source": []
  }
 ],
 "metadata": {
  "kernelspec": {
   "display_name": "Python 3",
   "language": "python",
   "name": "python3"
  },
  "language_info": {
   "codemirror_mode": {
    "name": "ipython",
    "version": 3
   },
   "file_extension": ".py",
   "mimetype": "text/x-python",
   "name": "python",
   "nbconvert_exporter": "python",
   "pygments_lexer": "ipython3",
   "version": "3.6.9"
  }
 },
 "nbformat": 4,
 "nbformat_minor": 2
}
